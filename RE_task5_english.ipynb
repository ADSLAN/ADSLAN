{
  "nbformat": 4,
  "nbformat_minor": 0,
  "metadata": {
    "colab": {
      "provenance": [],
      "authorship_tag": "ABX9TyMu7L/BmJmV9t1dGaFejRBB",
      "include_colab_link": true
    },
    "kernelspec": {
      "name": "python3",
      "display_name": "Python 3"
    },
    "language_info": {
      "name": "python"
    }
  },
  "cells": [
    {
      "cell_type": "markdown",
      "metadata": {
        "id": "view-in-github",
        "colab_type": "text"
      },
      "source": [
        "<a href=\"https://colab.research.google.com/github/ADSLAN/ADSLAN/blob/main/RE_task5_english.ipynb\" target=\"_parent\"><img src=\"https://colab.research.google.com/assets/colab-badge.svg\" alt=\"Open In Colab\"/></a>"
      ]
    },
    {
      "cell_type": "markdown",
      "source": [
        "# Question Mark?\n",
        "Qyestion mark ? is the \"option\" regex meaning 0 or 1 occurrence\n",
        "\n",
        "Question mark ? can also be used in combination with other special characters and means something else.\n",
        "\n",
        "asterisk * means 0 or more occurence of the preceding element\n",
        "\n",
        "By default the engine returns \"more occurences\" (greedy). if we want to force the 0 occurences, we use? after the * (non-greedy)"
      ],
      "metadata": {
        "id": "si7_dg8qGhcE"
      }
    },
    {
      "cell_type": "code",
      "source": [
        "import re"
      ],
      "metadata": {
        "id": "_tX_IFvHIXJq"
      },
      "execution_count": 20,
      "outputs": []
    },
    {
      "cell_type": "code",
      "source": [
        "text = \"abcdefghujhg\""
      ],
      "metadata": {
        "id": "q-JjVdEqIvc0"
      },
      "execution_count": 21,
      "outputs": []
    },
    {
      "cell_type": "code",
      "source": [
        "re.findall(\"ab.*?\", text)"
      ],
      "metadata": {
        "colab": {
          "base_uri": "https://localhost:8080/"
        },
        "id": "CMWqEfh_I1v_",
        "outputId": "45cfe89f-0105-4494-acb7-a6ee745812ad"
      },
      "execution_count": 22,
      "outputs": [
        {
          "output_type": "execute_result",
          "data": {
            "text/plain": [
              "['ab']"
            ]
          },
          "metadata": {},
          "execution_count": 22
        }
      ]
    },
    {
      "cell_type": "code",
      "source": [
        "text = \"peter piper picked a peck of pickled peppers\""
      ],
      "metadata": {
        "id": "fPyJPR9fI2fu"
      },
      "execution_count": 23,
      "outputs": []
    },
    {
      "cell_type": "code",
      "source": [
        "re.findall(\"p.*?e.*?r\", text)"
      ],
      "metadata": {
        "colab": {
          "base_uri": "https://localhost:8080/"
        },
        "id": "tvaeojbWI873",
        "outputId": "98462d34-d498-41f0-90a4-245b8d6b2cea"
      },
      "execution_count": 24,
      "outputs": [
        {
          "output_type": "execute_result",
          "data": {
            "text/plain": [
              "['peter', 'piper', 'picked a peck of pickled pepper']"
            ]
          },
          "metadata": {},
          "execution_count": 24
        }
      ]
    },
    {
      "cell_type": "markdown",
      "source": [
        "# Problem 1\n",
        "\n",
        "Find a match hat starts with \"crypto\", then matches at the most 30 arbitrary characters and match ends when the last word is \"coin\""
      ],
      "metadata": {
        "id": "LfuWpFo6I-lz"
      }
    },
    {
      "cell_type": "code",
      "source": [
        "text = \"crypto-bot that is trading Bitcoin and other currencies\""
      ],
      "metadata": {
        "id": "FRIhUWtaJfnq"
      },
      "execution_count": 27,
      "outputs": []
    },
    {
      "cell_type": "code",
      "source": [
        "re.match(\"crypto(.{1,30})coin\", text)"
      ],
      "metadata": {
        "colab": {
          "base_uri": "https://localhost:8080/"
        },
        "id": "TjsEXOoWMSK_",
        "outputId": "37aa987a-bc8d-4e77-cc6c-b15c9144b67f"
      },
      "execution_count": 28,
      "outputs": [
        {
          "output_type": "execute_result",
          "data": {
            "text/plain": [
              "<re.Match object; span=(0, 34), match='crypto-bot that is trading Bitcoin'>"
            ]
          },
          "metadata": {},
          "execution_count": 28
        }
      ]
    },
    {
      "cell_type": "markdown",
      "source": [
        "# Problem 2\n",
        "given a string, find a list of all occurences of dollar amounts with optional regular expressions decimal values"
      ],
      "metadata": {
        "id": "Gk9cSA6NJoBT"
      }
    },
    {
      "cell_type": "code",
      "source": [
        "text = \"\"\"\n",
        "if you invested $1 in the year 1801, you would have $18087791.41 today\n",
        "this is a 7.967% return on investment.\n",
        "But if you invested only $0.25 in 1801, you would end up with $4521947.8525\n",
        "\"\"\""
      ],
      "metadata": {
        "id": "WCDQmx0AN2v6"
      },
      "execution_count": 29,
      "outputs": []
    },
    {
      "cell_type": "code",
      "source": [
        "re.findall(\"(\\$[0-9]+(\\.[0-9]*)?)\", text)"
      ],
      "metadata": {
        "colab": {
          "base_uri": "https://localhost:8080/"
        },
        "id": "xuU_LUujO7__",
        "outputId": "b0edebfd-a355-4f93-c42c-46a638892059"
      },
      "execution_count": 30,
      "outputs": [
        {
          "output_type": "execute_result",
          "data": {
            "text/plain": [
              "[('$1', ''),\n",
              " ('$18087791.41', '.41'),\n",
              " ('$0.25', '.25'),\n",
              " ('$4521947.8525', '.8525')]"
            ]
          },
          "metadata": {},
          "execution_count": 30
        }
      ]
    },
    {
      "cell_type": "markdown",
      "source": [
        "# Problem 3\n",
        "Replace Alice Wonderland with \"Alice Doe\", but not to replace occurrences of \"Alice Wonderland\" when you see single quotes. Introducing the \"?!\" Negative lookahead."
      ],
      "metadata": {
        "id": "cYey0SMfQR_M"
      }
    },
    {
      "cell_type": "code",
      "source": [
        "text = \"\"\"\n",
        "Alice Wonderland married John Doe.\n",
        "The new name of former \"Alice Wonderland\" is Alice Doe.\n",
        "Alice Wonderlnad replaces her old name \"Wonderland\" with her new name \"Doe\".\n",
        "Alice's sister Jane Wonderland still keeps her old name.\n",
        "\"\"\""
      ],
      "metadata": {
        "id": "f7IMes0qQylM"
      },
      "execution_count": 31,
      "outputs": []
    },
    {
      "cell_type": "code",
      "source": [
        "re.sub(\"Alice Wonderland(?!')\", \"ALice Doe\", text)"
      ],
      "metadata": {
        "colab": {
          "base_uri": "https://localhost:8080/",
          "height": 53
        },
        "id": "cJBX_n1uSnwE",
        "outputId": "a0274c43-ce23-4b64-b1dd-cc52eb8ffaae"
      },
      "execution_count": 36,
      "outputs": [
        {
          "output_type": "execute_result",
          "data": {
            "text/plain": [
              "'\\nALice Doe married John Doe.\\nThe new name of former \"ALice Doe\" is Alice Doe.\\nAlice Wonderlnad replaces her old name \"Wonderland\" with her new name \"Doe\".\\nAlice\\'s sister Jane Wonderland still keeps her old name.\\n'"
            ],
            "application/vnd.google.colaboratory.intrinsic+json": {
              "type": "string"
            }
          },
          "metadata": {},
          "execution_count": 36
        }
      ]
    }
  ]
}